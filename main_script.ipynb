{
 "cells": [
  {
   "cell_type": "markdown",
   "metadata": {},
   "source": [
    "Importing necessary libraries to analyze and load the csv into a dataframe that can be analyzed"
   ]
  },
  {
   "cell_type": "code",
   "execution_count": null,
   "metadata": {},
   "outputs": [],
   "source": [
    "import pandas as pd\n",
    "import openpyxl"
   ]
  },
  {
   "cell_type": "code",
   "execution_count": null,
   "metadata": {},
   "outputs": [],
   "source": [
    "df = pd.read_excel(\"Day2.xlsx\")"
   ]
  },
  {
   "cell_type": "code",
   "execution_count": 241,
   "metadata": {},
   "outputs": [],
   "source": [
    "df_sample = df"
   ]
  },
  {
   "cell_type": "markdown",
   "metadata": {},
   "source": [
    "Groups the dataframe by \"IVA_CHAT_ID\" to look at an overall response time for a single interaction with either a chatbox or live agent and accounts for variability among those times.\n",
    "\n",
    "Obtains those repsonse time averages and stores them in a column of a dataframe that only contains timestamps for conversations with unique IVA_CHAT_IDs"
   ]
  },
  {
   "cell_type": "code",
   "execution_count": 242,
   "metadata": {},
   "outputs": [
    {
     "name": "stdout",
     "output_type": "stream",
     "text": [
      "<class 'pandas.core.series.Series'>\n"
     ]
    },
    {
     "name": "stderr",
     "output_type": "stream",
     "text": [
      "C:\\Users\\harsh\\AppData\\Local\\Temp/ipykernel_15900/163272301.py:9: SettingWithCopyWarning: \n",
      "A value is trying to be set on a copy of a slice from a DataFrame.\n",
      "Try using .loc[row_indexer,col_indexer] = value instead\n",
      "\n",
      "See the caveats in the documentation: https://pandas.pydata.org/pandas-docs/stable/user_guide/indexing.html#returning-a-view-versus-a-copy\n",
      "  df_unique[\"AVERAGE TIME\"] = t/counts\n"
     ]
    }
   ],
   "source": [
    "df_group = df_sample.groupby(\"IVA_CHAT_ID\").agg(\"count\").reset_index()\n",
    "counts = df_group[\"DATE_TIME\"]\n",
    "df_unique = df_sample.drop_duplicates(subset=[\"IVA_CHAT_ID\"])\n",
    "times = []\n",
    "for index, row in df_unique.iterrows():\n",
    "    times.append((row[\"END_DATE_TIME\"] - row[\"DATE_TIME\"]).total_seconds())\n",
    "t = pd.Series(times)\n",
    "print(type(counts))\n",
    "df_unique[\"AVERAGE TIME\"] = t/counts"
   ]
  },
  {
   "cell_type": "markdown",
   "metadata": {},
   "source": [
    "Plotting average response times and analyzing distribution"
   ]
  },
  {
   "cell_type": "code",
   "execution_count": 282,
   "metadata": {},
   "outputs": [
    {
     "data": {
      "text/plain": [
       "array([[<AxesSubplot:title={'center':'AVERAGE TIME'}>]], dtype=object)"
      ]
     },
     "execution_count": 282,
     "metadata": {},
     "output_type": "execute_result"
    },
    {
     "data": {
      "image/png": "[encoded data removed]",
      "text/plain": [
       "<Figure size 432x288 with 1 Axes>"
      ]
     },
     "metadata": {
      "needs_background": "light"
     },
     "output_type": "display_data"
    }
   ],
   "source": [
    "df_unique.hist(\"AVERAGE TIME\", bins = 75)"
   ]
  },
  {
   "cell_type": "code",
   "execution_count": 247,
   "metadata": {},
   "outputs": [],
   "source": [
    "import numpy as np\n",
    "from scipy import stats\n",
    "import math\n",
    "import matplotlib\n",
    "from matplotlib import pyplot as plt\n",
    "times = df_unique[\"AVERAGE TIME\"].to_numpy()"
   ]
  },
  {
   "cell_type": "markdown",
   "metadata": {},
   "source": [
    "Obtaining an array of percentiles (using algorithm described in readme.md) from the time data to incorporate into the rubric as a scoring mechanism from 100 %ile to 0"
   ]
  },
  {
   "cell_type": "code",
   "execution_count": 251,
   "metadata": {},
   "outputs": [],
   "source": [
    "percentiles = []\n",
    "times = np.sort(times)\n",
    "time_p = [times[0]]\n",
    "percentiles = [100]\n",
    "percentile = 100\n",
    "# if this element is greater than the next element by more than margin of 0.01, increase percentile value\n",
    "# append the time and percentile to the same indices in time_p and percentiles lists respectively\n",
    "\n",
    "\n",
    "for i in range(1, len(times)):\n",
    "    p_to_append = percentile\n",
    "    if (times[i] - times[i - 1] >= 0.05):\n",
    "        percentile-=1\n",
    "    time_p.append(times[i])\n",
    "    percentiles.append(percentile)\n",
    "    if (percentile == 0):\n",
    "        break"
   ]
  },
  {
   "cell_type": "code",
   "execution_count": 259,
   "metadata": {},
   "outputs": [
    {
     "name": "stdout",
     "output_type": "stream",
     "text": [
      "2234\n"
     ]
    },
    {
     "name": "stderr",
     "output_type": "stream",
     "text": [
      "C:\\Users\\harsh\\AppData\\Local\\Temp/ipykernel_15900/2775926067.py:2: SettingWithCopyWarning: \n",
      "A value is trying to be set on a copy of a slice from a DataFrame.\n",
      "Try using .loc[row_indexer,col_indexer] = value instead\n",
      "\n",
      "See the caveats in the documentation: https://pandas.pydata.org/pandas-docs/stable/user_guide/indexing.html#returning-a-view-versus-a-copy\n",
      "  df_unique[\"Average Time Flow Percentile\"] = pd.Series(percentiles)\n"
     ]
    }
   ],
   "source": [
    "df_unique[\"Average Time Flow Percentile\"] = pd.Series(percentiles)\n",
    "# print((sum(percentiles) / len(percentiles))*33/100)"
   ]
  },
  {
   "cell_type": "code",
   "execution_count": 295,
   "metadata": {},
   "outputs": [
    {
     "name": "stdout",
     "output_type": "stream",
     "text": [
      "Mean response time is: 12.47610866760267\n",
      "Mean score value based on time is: 84.30572963294539\n"
     ]
    }
   ],
   "source": [
    "import statistics\n",
    "\n",
    "print(\"Mean response time is: \" + str(statistics.mean(time_p)))\n",
    "print(\"Mean score value based on time is: \" + str(statistics.mean(percentiles)))"
   ]
  },
  {
   "cell_type": "code",
   "execution_count": 226,
   "metadata": {},
   "outputs": [
    {
     "data": {
      "text/plain": [
       "Text(0.5, 1.0, 'Percentile Distribution')"
      ]
     },
     "execution_count": 226,
     "metadata": {},
     "output_type": "execute_result"
    },
    {
     "data": {
      "image/png": "[encoded data removed]",
      "text/plain": [
       "<Figure size 432x288 with 1 Axes>"
      ]
     },
     "metadata": {
      "needs_background": "light"
     },
     "output_type": "display_data"
    }
   ],
   "source": [
    "# plt.hist(percentiles)\n",
    "plt.hist(percentiles, bins = 100)\n",
    "plt.title(\"Percentile Distribution\")"
   ]
  },
  {
   "cell_type": "code",
   "execution_count": 198,
   "metadata": {},
   "outputs": [
    {
     "name": "stdout",
     "output_type": "stream",
     "text": [
      "195714\n"
     ]
    }
   ],
   "source": [
    "# obtaining rows with reason = input\n",
    "buttons_df = df_sample[df_sample[\"IVA_CHAT_REASON\"] == df_sample[\"INPUT\"]]\n",
    "print(len(buttons_df))\n",
    "# numeric_states = []"
   ]
  },
  {
   "cell_type": "markdown",
   "metadata": {},
   "source": [
    "Obtaining a list of chat reasons associated with a single conversation and storing it to a global list (all_chat_reason (list[list])) to be used later for referencing specific conversations"
   ]
  },
  {
   "cell_type": "code",
   "execution_count": 337,
   "metadata": {},
   "outputs": [],
   "source": [
    "client_arr = df[\"CLIENT_ID\"]\n",
    "reasons_arr = df[\"IVA_CHAT_REASON\"]\n",
    "input_arr = df[\"INPUT\"]\n",
    "type_arr = df[\"CHAT_TYPE\"]\n",
    "output_arr = df[\"RESPONSE\"]\n",
    "itr = 0\n",
    "all_chat_reason = []\n",
    "while (itr < len(client_arr)):\n",
    "    current_chat_reason = []\n",
    "    current_chat_input = []\n",
    "    current_chat_response = []\n",
    "    current_client = client_arr[itr]\n",
    "    while ((itr < (len(client_arr) - 1)) and (client_arr[itr] == current_client)):\n",
    "        current_chat_reason.append(reasons_arr[itr])\n",
    "        itr+=1\n",
    "    if itr == len(client_arr) - 1:\n",
    "        break\n",
    "    all_chat_reason.append(current_chat_reason)\n"
   ]
  },
  {
   "cell_type": "markdown",
   "metadata": {},
   "source": [
    "Reading a list of manually obtained sorry/phrases of incompetence into the notebook to later deduce points for breaking the flow of the conversation"
   ]
  },
  {
   "cell_type": "code",
   "execution_count": 338,
   "metadata": {},
   "outputs": [
    {
     "name": "stdout",
     "output_type": "stream",
     "text": [
      "[\"I didn't quite catch that. Could you please ask it in a different way?\", \"I'm sorry, could you please repeat or rephrase your question so I can try to help?\", 'Surely, let me have 2-3 minutes please.', 'Am I correct ?', 'Am I  right?', \"Apologize, the ****8 is not getting a match, please re log in and start a new chat once you're in the account for us to be able to view the account and assist you.\", 'Apologies for the confusion in this regard.', 'Apologies for the wait.', 'apologize, I do not have an information for why the Credit limit increase was declined.', 'AppEventResponse: CloseChatForm - Error', \"As much as I would like to, we do not have that option. I'm so sorry.\"]\n"
     ]
    }
   ],
   "source": [
    "# creating list of sorry sentences\n",
    "\n",
    "f = open(\"bad_sentences.txt\", \"r\")\n",
    "sorry_words = []\n",
    "for x in f:\n",
    "    sorry_words.append(x[0:len(x) - 1])\n",
    "print(sorry_words)"
   ]
  },
  {
   "cell_type": "code",
   "execution_count": 345,
   "metadata": {},
   "outputs": [],
   "source": [
    "def score_repitions(k = 0.25):\n",
    "    response_itr = 0\n",
    "    score_list = []\n",
    "    for curr_convo_reason in all_chat_reason:\n",
    "        sorry_count = 0\n",
    "        lag = 0\n",
    "        count = 0\n",
    "        seen = []\n",
    "        repeated = []\n",
    "        for reason in curr_convo_reason:\n",
    "            # Looking for lags in conversation\n",
    "            if (reason == \"nan\"):\n",
    "                if (input_arr[response_itr] == \"nan\"):\n",
    "                    lag += 1\n",
    "                continue\n",
    "            # Looking for sorry phrases where chatbot doesn't have adequate response\n",
    "            if (output_arr[response_itr] in sorry_words):\n",
    "                sorry_count += 1\n",
    "            # Looking for uniqueness of responses\n",
    "            if reason not in seen :\n",
    "                seen.append(reason)\n",
    "                count += 1\n",
    "            else:\n",
    "                repeated.append(reason)\n",
    "            response_itr+=1\n",
    "        # Weighing every unique response delivered by chatbot as 2 units to establish initial score\n",
    "        score = 2 * count\n",
    "        # Deducting k multiplied by number of repitions from score. 'k' is open to ambiguity. 0.25 for default\n",
    "        for repeat in repeated:\n",
    "            score -= k * curr_convo_reason.count(repeat)\n",
    "\n",
    "        # Deducting number of phrasees indicating incompetency\n",
    "        score -= sorry_count\n",
    "\n",
    "        # appending score for every conversation\n",
    "        score_list.append(score)\n",
    "    return score_list\n",
    "    "
   ]
  },
  {
   "cell_type": "code",
   "execution_count": 346,
   "metadata": {},
   "outputs": [
    {
     "name": "stderr",
     "output_type": "stream",
     "text": [
      "C:\\Users\\harsh\\AppData\\Local\\Temp/ipykernel_15900/2681359707.py:5: SettingWithCopyWarning: \n",
      "A value is trying to be set on a copy of a slice from a DataFrame.\n",
      "Try using .loc[row_indexer,col_indexer] = value instead\n",
      "\n",
      "See the caveats in the documentation: https://pandas.pydata.org/pandas-docs/stable/user_guide/indexing.html#returning-a-view-versus-a-copy\n",
      "  df_unique[\"score_flow\"] = pd.Series(list_of_scores)\n"
     ]
    },
    {
     "name": "stdout",
     "output_type": "stream",
     "text": [
      "Mean score for user flow is: 14.334067547723935\n"
     ]
    },
    {
     "data": {
      "image/png": "[encoded data removed]",
      "text/plain": [
       "<Figure size 432x288 with 1 Axes>"
      ]
     },
     "metadata": {
      "needs_background": "light"
     },
     "output_type": "display_data"
    }
   ],
   "source": [
    "#stores conversational flow scores from day 2 conversation data in list_of_scores\n",
    "list_of_scores = score_repitions(0.25)\n",
    "\n",
    "# appends list_of_scores to dataframe\n",
    "df_unique[\"score_flow\"] = pd.Series(list_of_scores)\n",
    "\n",
    "# writes the dataframe into a csv file\n",
    "df_unique.to_csv(\"ProcessedDataSet.csv\")\n",
    "\n",
    "# plot the histogram of scores to see distribution\n",
    "plt.hist(list_of_scores, bins = 100)\n",
    "plt.title(\"Distribution of flow scores\")\n",
    "\n",
    "# print the mean score for metric purposes\n",
    "print(\"Mean score for user flow is: \" + str(df_unique[\"score_flow\"].mean()))"
   ]
  },
  {
   "cell_type": "code",
   "execution_count": 363,
   "metadata": {},
   "outputs": [
    {
     "name": "stdout",
     "output_type": "stream",
     "text": [
      "0\n"
     ]
    }
   ],
   "source": [
    "import nlp_matching\n",
    "def accuracy_match():\n",
    "    # store the input and output of conversations for all rows where chat_type is live chat\n",
    "    global_itr = 0\n",
    "    count = 0\n",
    "    for i in range(len(all_chat_reason)):\n",
    "        # looping through all conversations\n",
    "        inputs = []\n",
    "        outputs = []\n",
    "        for j in range(len(all_chat_reason[i])):\n",
    "            # looping through single conversation\n",
    "            if (type_arr[global_itr] == \"LiveChat\"):\n",
    "                # identifying if the livechat conversation has started\n",
    "                # ignoring empty input and response cells\n",
    "                if (type(input_arr[global_itr]) != float):\n",
    "                    inputs.append(input_arr[global_itr])\n",
    "                if (type(output_arr[global_itr]) != float):\n",
    "                    outputs.append(output_arr[global_itr])\n",
    "            global_itr += 1\n",
    "            # Space to do NLP analysis\n",
    "            # Refer to nlp_matching.py was able to implement tone analysis, keyword fetching, and synonym lemmatization\n",
    "            # Have to match keywords between inputs and outputs\n",
    "            # Have to progressively monitor tone of conversation using methods in nlp_matching.py\n",
    "    return count\n",
    "print(accuracy_match())"
   ]
  },
  {
   "cell_type": "code",
   "execution_count": 1,
   "metadata": {},
   "outputs": [
    {
     "name": "stderr",
     "output_type": "stream",
     "text": [
      "[nltk_data] Downloading package wordnet to\n",
      "[nltk_data]     C:\\Users\\harsh\\AppData\\Roaming\\nltk_data...\n",
      "[nltk_data]   Package wordnet is already up-to-date!\n",
      "[nltk_data] Downloading package omw-1.4 to\n",
      "[nltk_data]     C:\\Users\\harsh\\AppData\\Roaming\\nltk_data...\n",
      "[nltk_data]   Package omw-1.4 is already up-to-date!\n"
     ]
    }
   ],
   "source": [
    "import nlp_matching"
   ]
  },
  {
   "cell_type": "code",
   "execution_count": 5,
   "metadata": {},
   "outputs": [
    {
     "name": "stdout",
     "output_type": "stream",
     "text": [
      "[(0.962482, 'Analytical')]\n"
     ]
    }
   ],
   "source": [
    "print(nlp_matching.tone_analyzer(\"No one making under $400,000 per year will see their taxes go up a single penny because of my Build Back Better Agenda. In fact, the plan cuts taxes for working people.\"))"
   ]
  },
  {
   "cell_type": "code",
   "execution_count": 6,
   "metadata": {},
   "outputs": [
    {
     "name": "stdout",
     "output_type": "stream",
     "text": [
      "[(0.582191, 'Sadness'), (0.829888, 'Analytical')]\n"
     ]
    }
   ],
   "source": [
    "print(nlp_matching.tone_analyzer('Team, I know that times are tough! Product '\n",
    "  + 'sales have been disappointing for the past three '\n",
    "  + 'quarters. We have a competitive product, but we '\n",
    "  + 'need to do a better job of selling it!'))"
   ]
  },
  {
   "cell_type": "code",
   "execution_count": null,
   "metadata": {},
   "outputs": [],
   "source": []
  }
 ],
 "metadata": {
  "interpreter": {
   "hash": "efb5bb2c72f4c5aeb508e443523a3a59185107a082ba9cf05e495a2fdfe30d88"
  },
  "kernelspec": {
   "display_name": "Python 3.10.1 64-bit",
   "language": "python",
   "name": "python3"
  },
  "language_info": {
   "codemirror_mode": {
    "name": "ipython",
    "version": 3
   },
   "file_extension": ".py",
   "mimetype": "text/x-python",
   "name": "python",
   "nbconvert_exporter": "python",
   "pygments_lexer": "ipython3",
   "version": "3.10.1"
  },
  "orig_nbformat": 4
 },
 "nbformat": 4,
 "nbformat_minor": 2
}
